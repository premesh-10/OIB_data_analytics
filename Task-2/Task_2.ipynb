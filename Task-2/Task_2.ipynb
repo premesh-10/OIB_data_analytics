{
  "nbformat": 4,
  "nbformat_minor": 0,
  "metadata": {
    "colab": {
      "provenance": []
    },
    "kernelspec": {
      "name": "python3",
      "display_name": "Python 3"
    },
    "language_info": {
      "name": "python"
    }
  },
  "cells": [
    {
      "cell_type": "markdown",
      "source": [
        "**TASK-2**\n",
        "\n",
        "Cleaning Data"
      ],
      "metadata": {
        "id": "wuMwZ3weYubT"
      }
    },
    {
      "cell_type": "code",
      "execution_count": 1,
      "metadata": {
        "colab": {
          "base_uri": "https://localhost:8080/"
        },
        "id": "4UbXcf-DWJXJ",
        "outputId": "b7256145-73d7-4dd5-dd87-f66684933b54"
      },
      "outputs": [
        {
          "output_type": "stream",
          "name": "stdout",
          "text": [
            "Initial data info:\n",
            "<class 'pandas.core.frame.DataFrame'>\n",
            "RangeIndex: 40900 entries, 0 to 40899\n",
            "Data columns (total 16 columns):\n",
            " #   Column                  Non-Null Count  Dtype  \n",
            "---  ------                  --------------  -----  \n",
            " 0   video_id                40900 non-null  object \n",
            " 1   trending_date           40900 non-null  object \n",
            " 2   title                   40900 non-null  object \n",
            " 3   channel_title           40900 non-null  object \n",
            " 4   category_id             40900 non-null  int64  \n",
            " 5   publish_time            40900 non-null  object \n",
            " 6   tags                    40900 non-null  object \n",
            " 7   views                   40900 non-null  float64\n",
            " 8   likes                   40900 non-null  float64\n",
            " 9   dislikes                40900 non-null  int64  \n",
            " 10  comment_count           40900 non-null  float64\n",
            " 11  thumbnail_link          40900 non-null  object \n",
            " 12  comments_disabled       40900 non-null  bool   \n",
            " 13  ratings_disabled        40900 non-null  bool   \n",
            " 14  video_error_or_removed  40900 non-null  bool   \n",
            " 15  description             40900 non-null  object \n",
            "dtypes: bool(3), float64(3), int64(2), object(8)\n",
            "memory usage: 4.2+ MB\n",
            "None\n",
            "\n",
            "Summary statistics:\n",
            "           video_id trending_date                                       title  \\\n",
            "count         40900         40900                                       40900   \n",
            "unique         6351           205                                        6440   \n",
            "top     j4kvraujn6c      17.14.11  we made our mom cry...her dream came true!   \n",
            "freq             29           200                                          29   \n",
            "mean            NaN           NaN                                         NaN   \n",
            "std             NaN           NaN                                         NaN   \n",
            "min             NaN           NaN                                         NaN   \n",
            "25%             NaN           NaN                                         NaN   \n",
            "50%             NaN           NaN                                         NaN   \n",
            "75%             NaN           NaN                                         NaN   \n",
            "max             NaN           NaN                                         NaN   \n",
            "\n",
            "       channel_title   category_id              publish_time    tags  \\\n",
            "count          40900  40900.000000                     40900   40900   \n",
            "unique          2203           NaN                      6269    6053   \n",
            "top             espn           NaN  2018-05-18t14:00:04.000z  [none]   \n",
            "freq             202           NaN                        50    1534   \n",
            "mean             NaN     20.219364                       NaN     NaN   \n",
            "std              NaN      6.942126                       NaN     NaN   \n",
            "min              NaN      5.000000                       NaN     NaN   \n",
            "25%              NaN     17.000000                       NaN     NaN   \n",
            "50%              NaN     24.000000                       NaN     NaN   \n",
            "75%              NaN     25.000000                       NaN     NaN   \n",
            "max              NaN     37.000000                       NaN     NaN   \n",
            "\n",
            "               views          likes      dislikes  comment_count  \\\n",
            "count   4.090000e+04   40900.000000  40900.000000   40900.000000   \n",
            "unique           NaN            NaN           NaN            NaN   \n",
            "top              NaN            NaN           NaN            NaN   \n",
            "freq             NaN            NaN           NaN            NaN   \n",
            "mean    1.263385e+06   38403.799927   1344.498753    3971.093551   \n",
            "std     1.360847e+06   44238.757757   1536.097097    4531.395591   \n",
            "min     5.490000e+02       0.000000      0.000000       0.000000   \n",
            "25%     2.419708e+05    5415.250000    202.000000     613.000000   \n",
            "50%     6.810205e+05   18069.000000    630.000000    1855.000000   \n",
            "75%     1.821734e+06   55329.000000   1936.000000    5751.250000   \n",
            "max     4.191379e+06  130199.625000   4537.000000   13458.625000   \n",
            "\n",
            "                                        thumbnail_link comments_disabled  \\\n",
            "count                                            40900             40900   \n",
            "unique                                            6352                 2   \n",
            "top     https://i.ytimg.com/vi/8h--kfui1ja/default.jpg             False   \n",
            "freq                                                29             40268   \n",
            "mean                                               NaN               NaN   \n",
            "std                                                NaN               NaN   \n",
            "min                                                NaN               NaN   \n",
            "25%                                                NaN               NaN   \n",
            "50%                                                NaN               NaN   \n",
            "75%                                                NaN               NaN   \n",
            "max                                                NaN               NaN   \n",
            "\n",
            "       ratings_disabled video_error_or_removed  \\\n",
            "count             40900                  40900   \n",
            "unique                2                      2   \n",
            "top               False                  False   \n",
            "freq              40731                  40877   \n",
            "mean                NaN                    NaN   \n",
            "std                 NaN                    NaN   \n",
            "min                 NaN                    NaN   \n",
            "25%                 NaN                    NaN   \n",
            "50%                 NaN                    NaN   \n",
            "75%                 NaN                    NaN   \n",
            "max                 NaN                    NaN   \n",
            "\n",
            "                                              description  \n",
            "count                                               40900  \n",
            "unique                                               6899  \n",
            "top     ► listen live: http://power1051fm.com/\\n► face...  \n",
            "freq                                                  627  \n",
            "mean                                                  NaN  \n",
            "std                                                   NaN  \n",
            "min                                                   NaN  \n",
            "25%                                                   NaN  \n",
            "50%                                                   NaN  \n",
            "75%                                                   NaN  \n",
            "max                                                   NaN  \n"
          ]
        }
      ],
      "source": [
        "import pandas as pd\n",
        "\n",
        "# Load the dataset\n",
        "file_path = r\"/content/USvideos.csv\"\n",
        "data = pd.read_csv(file_path)\n",
        "\n",
        "# 1. Data Integrity: Ensuring accuracy, consistency, and reliability\n",
        "# Checking for any unexpected data types or potential issues in each column\n",
        "print(\"Initial data info:\")\n",
        "print(data.info())\n",
        "print(\"\\nSummary statistics:\")\n",
        "print(data.describe(include='all'))"
      ]
    },
    {
      "cell_type": "code",
      "source": [
        "# 2. Missing Data Handling: Fill or drop missing values\n",
        "# For numerical columns, we use median imputation, and for categorical columns, we use the mode.\n",
        "\n",
        "# Impute missing values\n",
        "for column in data.columns:\n",
        "    if data[column].dtype == 'object':  # Categorical column\n",
        "        data[column] = data[column].fillna(data[column].mode()[0])\n",
        "    else:  # Numerical column\n",
        "        data[column] = data[column].fillna(data[column].median())"
      ],
      "metadata": {
        "id": "CHQT2-f9WPR0"
      },
      "execution_count": 2,
      "outputs": []
    },
    {
      "cell_type": "code",
      "source": [
        "# 3. Duplicate Removal: Remove duplicate rows\n",
        "initial_row_count = data.shape[0]\n",
        "data = data.drop_duplicates()\n",
        "final_row_count = data.shape[0]\n",
        "print(f\"\\nDuplicates removed: {initial_row_count - final_row_count}\")"
      ],
      "metadata": {
        "colab": {
          "base_uri": "https://localhost:8080/"
        },
        "id": "GVzRCmP_WSMT",
        "outputId": "e1c86ef1-5dcd-4b65-b627-aea0fcdf4b20"
      },
      "execution_count": 3,
      "outputs": [
        {
          "output_type": "stream",
          "name": "stdout",
          "text": [
            "\n",
            "Duplicates removed: 0\n"
          ]
        }
      ]
    },
    {
      "cell_type": "code",
      "source": [
        "# 4. Standardization: Ensure consistent formatting and units\n",
        "# Convert 'date' column to datetime format if it exists\n",
        "if 'date' in data.columns:\n",
        "    data['date'] = pd.to_datetime(data['date'], errors='coerce')"
      ],
      "metadata": {
        "id": "9wN52pYaWULS"
      },
      "execution_count": 4,
      "outputs": []
    },
    {
      "cell_type": "code",
      "source": [
        "# Standardize all text columns to lowercase for consistency\n",
        "for column in data.select_dtypes(include=['object']).columns:\n",
        "    data[column] = data[column].str.lower()"
      ],
      "metadata": {
        "id": "k2SYAHxhWWNC"
      },
      "execution_count": 5,
      "outputs": []
    },
    {
      "cell_type": "code",
      "source": [
        "# 5. Outlier Detection: Identify and handle outliers in numerical columns\n",
        "# Using the IQR (Interquartile Range) method to filter outliers\n",
        "\n",
        "def handle_outliers(df, column):\n",
        "    Q1 = df[column].quantile(0.25)\n",
        "    Q3 = df[column].quantile(0.75)\n",
        "    IQR = Q3 - Q1\n",
        "    lower_bound = Q1 - 1.5 * IQR\n",
        "    upper_bound = Q3 + 1.5 * IQR\n",
        "    df[column] = df[column].clip(lower_bound, upper_bound)\n",
        "\n",
        "# Apply the outlier handling to numerical columns\n",
        "for column in data.select_dtypes(include=['float64', 'int64']).columns:\n",
        "    handle_outliers(data, column)\n",
        "\n",
        "# Display the cleaned dataset\n",
        "print(\"\\nData after cleaning:\")\n",
        "print(data.info())\n",
        "print(data.head())\n",
        "\n",
        "# Save the cleaned data to a new CSV file\n",
        "data.to_csv(r\"/content/USvideos.csv\", index=False)\n",
        "print(\"\\nCleaned data saved to 'USvideos_cleaned.csv'\")"
      ],
      "metadata": {
        "colab": {
          "base_uri": "https://localhost:8080/"
        },
        "id": "I0K-tuAOWazT",
        "outputId": "125926ee-e342-4356-e65c-b5b16c7fc695"
      },
      "execution_count": 6,
      "outputs": [
        {
          "output_type": "stream",
          "name": "stdout",
          "text": [
            "\n",
            "Data after cleaning:\n",
            "<class 'pandas.core.frame.DataFrame'>\n",
            "RangeIndex: 40900 entries, 0 to 40899\n",
            "Data columns (total 16 columns):\n",
            " #   Column                  Non-Null Count  Dtype  \n",
            "---  ------                  --------------  -----  \n",
            " 0   video_id                40900 non-null  object \n",
            " 1   trending_date           40900 non-null  object \n",
            " 2   title                   40900 non-null  object \n",
            " 3   channel_title           40900 non-null  object \n",
            " 4   category_id             40900 non-null  int64  \n",
            " 5   publish_time            40900 non-null  object \n",
            " 6   tags                    40900 non-null  object \n",
            " 7   views                   40900 non-null  float64\n",
            " 8   likes                   40900 non-null  float64\n",
            " 9   dislikes                40900 non-null  int64  \n",
            " 10  comment_count           40900 non-null  float64\n",
            " 11  thumbnail_link          40900 non-null  object \n",
            " 12  comments_disabled       40900 non-null  bool   \n",
            " 13  ratings_disabled        40900 non-null  bool   \n",
            " 14  video_error_or_removed  40900 non-null  bool   \n",
            " 15  description             40900 non-null  object \n",
            "dtypes: bool(3), float64(3), int64(2), object(8)\n",
            "memory usage: 4.2+ MB\n",
            "None\n",
            "      video_id trending_date  \\\n",
            "0  2kys6svsyse      17.14.11   \n",
            "1  1zapwfrtafy      17.14.11   \n",
            "2  5qpjk5dgct4      17.14.11   \n",
            "3  puqawrec7ty      17.14.11   \n",
            "4  d380med0w0m      17.14.11   \n",
            "\n",
            "                                               title          channel_title  \\\n",
            "0                 we want to talk about our marriage           caseyneistat   \n",
            "1  the trump presidency: last week tonight with j...        lastweektonight   \n",
            "2  racist superman | rudy mancuso, king bach & le...           rudy mancuso   \n",
            "3                   nickelback lyrics: real or fake?  good mythical morning   \n",
            "4                           i dare you: going bald!?               nigahiga   \n",
            "\n",
            "   category_id              publish_time  \\\n",
            "0           22  2017-11-13t17:13:01.000z   \n",
            "1           24  2017-11-13t07:30:00.000z   \n",
            "2           23  2017-11-12t19:05:24.000z   \n",
            "3           24  2017-11-13t11:00:04.000z   \n",
            "4           24  2017-11-12t18:01:41.000z   \n",
            "\n",
            "                                                tags      views       likes  \\\n",
            "0                                    shantell martin   748374.0   57527.000   \n",
            "1  last week tonight trump presidency|\"last week ...  2418783.0   97185.000   \n",
            "2  racist superman|\"rudy\"|\"mancuso\"|\"king\"|\"bach\"...  3191434.0  130199.625   \n",
            "3  rhett and link|\"gmm\"|\"good mythical morning\"|\"...   343168.0   10172.000   \n",
            "4  ryan|\"higa\"|\"higatv\"|\"nigahiga\"|\"i dare you\"|\"...  2095731.0  130199.625   \n",
            "\n",
            "   dislikes  comment_count                                  thumbnail_link  \\\n",
            "0      2966      13458.625  https://i.ytimg.com/vi/2kys6svsyse/default.jpg   \n",
            "1      4537      12703.000  https://i.ytimg.com/vi/1zapwfrtafy/default.jpg   \n",
            "2      4537       8181.000  https://i.ytimg.com/vi/5qpjk5dgct4/default.jpg   \n",
            "3       666       2146.000  https://i.ytimg.com/vi/puqawrec7ty/default.jpg   \n",
            "4      1989      13458.625  https://i.ytimg.com/vi/d380med0w0m/default.jpg   \n",
            "\n",
            "   comments_disabled  ratings_disabled  video_error_or_removed  \\\n",
            "0              False             False                   False   \n",
            "1              False             False                   False   \n",
            "2              False             False                   False   \n",
            "3              False             False                   False   \n",
            "4              False             False                   False   \n",
            "\n",
            "                                         description  \n",
            "0  shantell's channel - https://www.youtube.com/s...  \n",
            "1  one year after the presidential election, john...  \n",
            "2  watch my previous video ▶ \\n\\nsubscribe ► http...  \n",
            "3  today we find out if link is a nickelback amat...  \n",
            "4  i know it's been a while since we did this sho...  \n",
            "\n",
            "Cleaned data saved to 'USvideos_cleaned.csv'\n"
          ]
        }
      ]
    }
  ]
}